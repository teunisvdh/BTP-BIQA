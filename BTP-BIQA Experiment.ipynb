{
  "nbformat": 4,
  "nbformat_minor": 0,
  "metadata": {
    "colab": {
      "name": "Kopie van BTP_IQA_experiment.ipynb",
      "provenance": [],
      "collapsed_sections": []
    },
    "kernelspec": {
      "name": "python3",
      "display_name": "Python 3"
    }
  },
  "cells": [
    {
      "cell_type": "markdown",
      "metadata": {
        "id": "8s9dQIWKkuq-",
        "colab_type": "text"
      },
      "source": [
        "https://allocate.monster/UWAOPRUG\n",
        "\n"
      ]
    },
    {
      "cell_type": "code",
      "metadata": {
        "id": "dVlAfIEcv5Gk",
        "colab_type": "code",
        "colab": {}
      },
      "source": [
        "!cp /content/drive/'My Drive'/deploy/main.py main.py\n",
        "!cp /content/drive/'My Drive'/deploy/helpers.py helpers.py\n",
        "!cp /content/drive/'My Drive'/deploy/favicon.ico favicon.ico\n",
        "!cp /content/drive/'My Drive'/deploy/requirements.txt requirements.txt\n",
        "!cp -r /content/drive/'My Drive'/deploy/kutils /content/kutils/\n",
        "!cp -r /content/drive/'My Drive'/deploy/models /content/models/\n",
        "!cp -r /content/drive/'My Drive'/deploy/static /content/static/\n",
        "!cp -r /content/drive/'My Drive'/deploy/templates /content/templates/"
      ],
      "execution_count": null,
      "outputs": []
    },
    {
      "cell_type": "code",
      "metadata": {
        "id": "88DHLPxu_N4E",
        "colab_type": "code",
        "colab": {}
      },
      "source": [
        "!pip install -r requirements.txt\n",
        "!ngrok authtoken ***********************"
      ],
      "execution_count": null,
      "outputs": []
    },
    {
      "cell_type": "code",
      "metadata": {
        "id": "aDJOaPJcBlrR",
        "colab_type": "code",
        "colab": {}
      },
      "source": [
        "from pyngrok import ngrok\n",
        "url = ngrok.connect(options = {\"subdomain\": \"bethepixel\"}, port = '5000')\n",
        "print(url)\n",
        "\n",
        "# tunnels = ngrok.get_tunnels()\n",
        "# ngrok.disconnect(tunnels[0].public_url)\n",
        "# print(tunnels) "
      ],
      "execution_count": null,
      "outputs": []
    },
    {
      "cell_type": "code",
      "metadata": {
        "id": "bpd0Ethrxyho",
        "colab_type": "code",
        "colab": {}
      },
      "source": [
        "!python3 main.py"
      ],
      "execution_count": null,
      "outputs": []
    },
    {
      "cell_type": "code",
      "metadata": {
        "id": "MDnnV46TGviV",
        "colab_type": "code",
        "colab": {}
      },
      "source": [
        ""
      ],
      "execution_count": null,
      "outputs": []
    }
  ]
}